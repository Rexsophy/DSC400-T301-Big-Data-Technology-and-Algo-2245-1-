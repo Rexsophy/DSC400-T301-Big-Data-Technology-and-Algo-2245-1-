{
  "cells": [
    {
      "cell_type": "markdown",
      "id": "1e0346df-0b2c-48b8-9c19-34ccdd0d7fd2",
      "metadata": {
        "id": "1e0346df-0b2c-48b8-9c19-34ccdd0d7fd2"
      },
      "source": [
        "#### Rex Gayas\n",
        "#### Week 8 Exercise 8.2 Spring 2024\n",
        "#### DSC400-T301 Big Data, Technology, and Algo (2245-1)\n",
        "#### Stream Processing with Spark"
      ]
    },
    {
      "cell_type": "code",
      "execution_count": 1,
      "id": "210dc45b-190f-48cd-a90c-e57e5ba631db",
      "metadata": {
        "id": "210dc45b-190f-48cd-a90c-e57e5ba631db"
      },
      "outputs": [],
      "source": [
        "import pandas as pd\n",
        "import numpy as np\n",
        "\n",
        "base_github_repo_url = 'https://raw.githubusercontent.com/bellevue-university/dsc400/main'\n",
        "family_csv_url = base_github_repo_url + '/data/stardew/family.csv'\n",
        "friends_csv_url = base_github_repo_url + '/data/stardew/friends.csv'\n",
        "gifts_csv_url = base_github_repo_url + '/data/stardew/gifts.csv'\n",
        "villagers_csv_url = base_github_repo_url + '/data/stardew/villagers.csv'\n",
        "\n",
        "pd_df_family = pd.read_csv(family_csv_url, index_col='id')\n",
        "pd_df_gifts = pd.read_csv(gifts_csv_url, index_col='id')\n",
        "pd_df_friends = pd.read_csv(friends_csv_url, index_col='id')\n",
        "pd_df_villagers = pd.read_csv(villagers_csv_url, index_col='id')\n",
        "\n",
        "pd_df_villagers['birthday'] = pd_df_villagers['birthday'].replace(np.nan, 'Unknown')\n",
        "pd_df_villagers['address'] = pd_df_villagers['address'].replace(np.nan, 'Unknown')"
      ]
    },
    {
      "cell_type": "code",
      "execution_count": 2,
      "id": "94f7dd58-43b0-4bb7-9928-6f9d4ae6fe20",
      "metadata": {
        "id": "94f7dd58-43b0-4bb7-9928-6f9d4ae6fe20"
      },
      "outputs": [],
      "source": [
        "from pathlib import Path\n",
        "import os\n",
        "import shutil\n",
        "\n",
        "current_working_dir = Path(os.getcwd())\n",
        "spark_warehouse_dir = current_working_dir.joinpath('spark-warehouse')\n",
        "if spark_warehouse_dir.exists():\n",
        "    shutil.rmtree(spark_warehouse_dir)"
      ]
    },
    {
      "cell_type": "code",
      "source": [
        "!pip install pyspark"
      ],
      "metadata": {
        "colab": {
          "base_uri": "https://localhost:8080/"
        },
        "id": "fPVTrx4FXvOa",
        "outputId": "dd3e1405-64c0-4973-9f81-17615590e0e7"
      },
      "id": "fPVTrx4FXvOa",
      "execution_count": 4,
      "outputs": [
        {
          "output_type": "stream",
          "name": "stdout",
          "text": [
            "Collecting pyspark\n",
            "  Downloading pyspark-3.5.1.tar.gz (317.0 MB)\n",
            "\u001b[2K     \u001b[90m━━━━━━━━━━━━━━━━━━━━━━━━━━━━━━━━━━━━━━━━\u001b[0m \u001b[32m317.0/317.0 MB\u001b[0m \u001b[31m3.8 MB/s\u001b[0m eta \u001b[36m0:00:00\u001b[0m\n",
            "\u001b[?25h  Preparing metadata (setup.py) ... \u001b[?25l\u001b[?25hdone\n",
            "Requirement already satisfied: py4j==0.10.9.7 in /usr/local/lib/python3.10/dist-packages (from pyspark) (0.10.9.7)\n",
            "Building wheels for collected packages: pyspark\n",
            "  Building wheel for pyspark (setup.py) ... \u001b[?25l\u001b[?25hdone\n",
            "  Created wheel for pyspark: filename=pyspark-3.5.1-py2.py3-none-any.whl size=317488491 sha256=a52e3e65e09f464dece7e16db22e9bbb9ee6f536e6c2951f150b6d4766ac94c4\n",
            "  Stored in directory: /root/.cache/pip/wheels/80/1d/60/2c256ed38dddce2fdd93be545214a63e02fbd8d74fb0b7f3a6\n",
            "Successfully built pyspark\n",
            "Installing collected packages: pyspark\n",
            "Successfully installed pyspark-3.5.1\n"
          ]
        }
      ]
    },
    {
      "cell_type": "code",
      "execution_count": 5,
      "id": "b13e6e35-3181-4a91-b88f-98509fa79bce",
      "metadata": {
        "id": "b13e6e35-3181-4a91-b88f-98509fa79bce"
      },
      "outputs": [],
      "source": [
        "from pyspark.sql import SparkSession\n",
        "\n",
        "spark = SparkSession.builder \\\n",
        "    .appName(\"Test App\") \\\n",
        "    .config(\"spark.some.config.option\", \"some-value\") \\\n",
        "    .getOrCreate()\n",
        "\n",
        "sc = spark.sparkContext\n"
      ]
    },
    {
      "cell_type": "code",
      "execution_count": 6,
      "id": "c7acf79f-a99c-4c50-a89d-37b6bbce15b1",
      "metadata": {
        "colab": {
          "base_uri": "https://localhost:8080/"
        },
        "id": "c7acf79f-a99c-4c50-a89d-37b6bbce15b1",
        "outputId": "547aa471-cfdb-45f8-c448-7d015f0c09fe"
      },
      "outputs": [
        {
          "output_type": "stream",
          "name": "stdout",
          "text": [
            "[1, 4, 9, 16, 25]\n"
          ]
        }
      ],
      "source": [
        "# Simple test to see if the SparkContext is working\n",
        "rdd = sc.parallelize([1, 2, 3, 4, 5])\n",
        "result = rdd.map(lambda x: x * x).collect()\n",
        "print(result)\n"
      ]
    },
    {
      "cell_type": "markdown",
      "id": "296d617a-5c78-4fdd-9a84-942ae2e128f1",
      "metadata": {
        "id": "296d617a-5c78-4fdd-9a84-942ae2e128f1"
      },
      "source": [
        "#### Assignment 8.1"
      ]
    },
    {
      "cell_type": "code",
      "execution_count": 7,
      "id": "0e207e1e-62b0-4d3e-87b3-f0400195b1be",
      "metadata": {
        "colab": {
          "base_uri": "https://localhost:8080/"
        },
        "id": "0e207e1e-62b0-4d3e-87b3-f0400195b1be",
        "outputId": "ce8b35b1-6321-4e7e-c8ac-1f9a93021b86"
      },
      "outputs": [
        {
          "output_type": "stream",
          "name": "stdout",
          "text": [
            "root\n",
            " |-- name: string (nullable = true)\n",
            " |-- birthday: string (nullable = true)\n",
            " |-- address: string (nullable = true)\n",
            " |-- is_marriable: boolean (nullable = true)\n",
            " |-- img_url: string (nullable = true)\n",
            "\n",
            "+---------+---------+--------------------+------------+--------------------+\n",
            "|     name| birthday|             address|is_marriable|             img_url|\n",
            "+---------+---------+--------------------+------------+--------------------+\n",
            "|  Abigail|  Fall 13|Pierre's General ...|        true|https://stardewva...|\n",
            "|     Alex|Summer 13|        1 River Road|        true|https://stardewva...|\n",
            "|   Birdie|  Unknown|  Hut on Island West|       false|https://stardewva...|\n",
            "|  Bouncer|  Unknown|               Oasis|       false|https://stardewva...|\n",
            "| Caroline| Winter 7|Pierre's General ...|       false|https://stardewva...|\n",
            "|    Clint|Winter 26|          Blacksmith|       false|https://stardewva...|\n",
            "|Demetrius|Summer 19|    24 Mountain Road|       false|https://stardewva...|\n",
            "|    Dwarf|Summer 22|        Eastern Cave|       false|https://stardewva...|\n",
            "|  Elliott|   Fall 5|     Elliott's Cabin|        true|https://stardewva...|\n",
            "|    Emily|Spring 27|       2 Willow Lane|        true|https://stardewva...|\n",
            "|   Evelyn|Winter 20|        1 River Road|       false|https://stardewva...|\n",
            "|   George|  Fall 24|        1 River Road|       false|https://stardewva...|\n",
            "|      Gil|  Unknown|  Adventurer's Guild|       false|https://stardewva...|\n",
            "| Governor|  Unknown|             Unknown|       false|https://stardewva...|\n",
            "|  Grandpa|  Unknown|           Afterlife|       false|https://stardewva...|\n",
            "|  Gunther|  Unknown|              Museum|       false|https://stardewva...|\n",
            "|      Gus| Summer 8| The Stardrop Saloon|       false|https://stardewva...|\n",
            "|    Haley|Spring 14|       2 Willow Lane|        true|https://stardewva...|\n",
            "|   Harvey|Winter 14|      Medical Clinic|        true|https://stardewva...|\n",
            "| Henchman|  Unknown|             Unknown|       false|https://stardewva...|\n",
            "+---------+---------+--------------------+------------+--------------------+\n",
            "only showing top 20 rows\n",
            "\n",
            "root\n",
            " |-- villager_id: string (nullable = true)\n",
            " |-- family_member_id: string (nullable = true)\n",
            " |-- relationship: string (nullable = true)\n",
            "\n",
            "+-----------+----------------+------------+\n",
            "|villager_id|family_member_id|relationship|\n",
            "+-----------+----------------+------------+\n",
            "|    Abigail|          Pierre|      Father|\n",
            "|    Abigail|        Caroline|      Mother|\n",
            "|       Alex|          Evelyn| Grandmother|\n",
            "|       Alex|          George| Grandfather|\n",
            "|   Caroline|          Pierre|     Husband|\n",
            "|   Caroline|         Abigail|    Daughter|\n",
            "|  Demetrius|           Robin|        Wife|\n",
            "|  Demetrius|            Maru|    Daughter|\n",
            "|  Demetrius|       Sebastian|    Step-son|\n",
            "|      Emily|           Haley|      Sister|\n",
            "|     Evelyn|          George|     Husband|\n",
            "|     Evelyn|            Alex|    Grandson|\n",
            "|     George|          Evelyn|        Wife|\n",
            "|     George|            Alex|    Grandson|\n",
            "|      Haley|           Emily|      Sister|\n",
            "|        Jas|          Marnie|        Aunt|\n",
            "|        Jas|           Shane|   Godfather|\n",
            "|       Jodi|            Kent|     Husband|\n",
            "|       Jodi|             Sam|         Son|\n",
            "|       Jodi|         Vincent|         Son|\n",
            "+-----------+----------------+------------+\n",
            "only showing top 20 rows\n",
            "\n",
            "root\n",
            " |-- gift_id: string (nullable = true)\n",
            " |-- villager_id: string (nullable = true)\n",
            "\n",
            "+------------------+-----------+\n",
            "|           gift_id|villager_id|\n",
            "+------------------+-----------+\n",
            "|          Amethyst|    Abigail|\n",
            "|    Banana Pudding|    Abigail|\n",
            "|Blackberry Cobbler|    Abigail|\n",
            "|    Chocolate Cake|    Abigail|\n",
            "|        Pufferfish|    Abigail|\n",
            "|           Pumpkin|    Abigail|\n",
            "|         Spicy Eel|    Abigail|\n",
            "|Complete Breakfast|       Alex|\n",
            "|     Salmon Dinner|       Alex|\n",
            "|         Fish Taco|   Caroline|\n",
            "|         Green Tea|   Caroline|\n",
            "|    Summer Spangle|   Caroline|\n",
            "|    Tropical Curry|   Caroline|\n",
            "|          Amethyst|      Clint|\n",
            "|        Aquamarine|      Clint|\n",
            "|     Artichoke Dip|      Clint|\n",
            "|           Emerald|      Clint|\n",
            "|Fiddlehead Risotto|      Clint|\n",
            "|          Gold Bar|      Clint|\n",
            "|       Iridium Bar|      Clint|\n",
            "+------------------+-----------+\n",
            "only showing top 20 rows\n",
            "\n",
            "root\n",
            " |-- villager_id: string (nullable = true)\n",
            " |-- friend_id: string (nullable = true)\n",
            "\n",
            "+-----------+---------+\n",
            "|villager_id|friend_id|\n",
            "+-----------+---------+\n",
            "|    Abigail|      Sam|\n",
            "|    Abigail|Sebastian|\n",
            "|       Alex|    Haley|\n",
            "|   Caroline|     Jodi|\n",
            "|      Clint|    Emily|\n",
            "|    Elliott|     Leah|\n",
            "|    Elliott|    Willy|\n",
            "|      Emily|    Sandy|\n",
            "|        Gil|   Marlon|\n",
            "|        Gus|      Pam|\n",
            "|      Haley|     Alex|\n",
            "|     Harvey|     Maru|\n",
            "|        Jas|      Leo|\n",
            "|        Jas|  Vincent|\n",
            "|       Jodi| Caroline|\n",
            "|       Leah|  Elliott|\n",
            "|        Leo|      Jas|\n",
            "|        Leo|    Linus|\n",
            "|        Leo|  Vincent|\n",
            "|      Lewis|   Marnie|\n",
            "+-----------+---------+\n",
            "only showing top 20 rows\n",
            "\n"
          ]
        }
      ],
      "source": [
        "from pyspark.sql import SparkSession\n",
        "from pyspark.sql.types import StructType, StructField, StringType, BooleanType\n",
        "\n",
        "# Initialize Spark Session\n",
        "spark = SparkSession.builder.appName(\"DSC 400 Assignment 8\").getOrCreate()\n",
        "\n",
        "# Schema definition\n",
        "villager_schema = StructType([\n",
        "    StructField(\"name\", StringType(), True),\n",
        "    StructField(\"birthday\", StringType(), True),\n",
        "    StructField(\"address\", StringType(), True),\n",
        "    StructField(\"is_marriable\", BooleanType(), True),\n",
        "    StructField(\"img_url\", StringType(), True)\n",
        "])\n",
        "\n",
        "df_villagers = spark.createDataFrame(pd_df_villagers, villager_schema)\n",
        "df_villagers.createOrReplaceTempView(\"villagers\")\n",
        "df_villagers.printSchema()\n",
        "df_villagers.show()\n",
        "\n",
        "df_family = spark.createDataFrame(pd_df_family)\n",
        "df_family.createOrReplaceTempView(\"family\")\n",
        "df_family.printSchema()\n",
        "df_family.show()\n",
        "\n",
        "df_gifts = spark.createDataFrame(pd_df_gifts)\n",
        "df_gifts.createOrReplaceTempView(\"gifts\")\n",
        "df_gifts.printSchema()\n",
        "df_gifts.show()\n",
        "\n",
        "df_friends = spark.createDataFrame(pd_df_friends)\n",
        "df_friends.createOrReplaceTempView(\"friends\")\n",
        "df_friends.printSchema()\n",
        "df_friends.show()\n"
      ]
    },
    {
      "cell_type": "markdown",
      "id": "a5772ddf-c5f1-4f89-b09a-a98ce532c304",
      "metadata": {
        "id": "a5772ddf-c5f1-4f89-b09a-a98ce532c304"
      },
      "source": [
        "Started by importing the necessary modules and initializing a Spark session. Using this session, I converted Pandas dataframes for family, gifts, friends, and villagers into Spark DataFrames. For each Spark DataFrame created, I printed the schema to understand the structure of the data, which includes column names and data types. This helps verify that the data was imported correctly into Spark."
      ]
    },
    {
      "cell_type": "markdown",
      "id": "dbabd4a2-8119-469c-aeb4-6ab69da3d41d",
      "metadata": {
        "id": "dbabd4a2-8119-469c-aeb4-6ab69da3d41d"
      },
      "source": [
        "Used the .show() method to display the contents of each DataFrame, ensuring that the data was loaded as expected and to provide a quick snapshot of what each DataFrame contains. For the villagers DataFrame, I defined an explicit schema to help Spark better interpret the data structure, especially when the automatic inference might not accurately capture the data types or nullable status of the columns."
      ]
    },
    {
      "cell_type": "markdown",
      "id": "12c22adb-16be-4bb9-bf3b-37efcde1a13e",
      "metadata": {
        "id": "12c22adb-16be-4bb9-bf3b-37efcde1a13e"
      },
      "source": [
        "##### Assignment 8.2"
      ]
    },
    {
      "cell_type": "code",
      "execution_count": 8,
      "id": "edc17c74-9a9f-4639-a0b0-594129204bbb",
      "metadata": {
        "id": "edc17c74-9a9f-4639-a0b0-594129204bbb"
      },
      "outputs": [],
      "source": [
        "# Create a temporary 'family' view using the 'df_family' DataFrame\n",
        "df_family.createOrReplaceTempView(\"family\")\n",
        "\n",
        "# Create a temporary 'friends' view using the 'df_friends' DataFrame\n",
        "df_friends.createOrReplaceTempView(\"friends\")\n",
        "\n",
        "# Create a temporary 'gifts' view using the 'df_gifts' DataFrame\n",
        "df_gifts.createOrReplaceTempView(\"gifts\")\n",
        "\n",
        "# Create a temporary 'villagers' view using the 'df_villagers' DataFrame\n",
        "df_villagers.createOrReplaceTempView(\"villagers\")\n"
      ]
    },
    {
      "cell_type": "code",
      "execution_count": 9,
      "id": "9756fac2-e4a0-45d1-a208-3d958b24fb5e",
      "metadata": {
        "colab": {
          "base_uri": "https://localhost:8080/"
        },
        "id": "9756fac2-e4a0-45d1-a208-3d958b24fb5e",
        "outputId": "616647b6-e0ed-4474-f377-b86bd034b4f5"
      },
      "outputs": [
        {
          "output_type": "stream",
          "name": "stdout",
          "text": [
            "Displaying data from the family view:\n",
            "+-----------+----------------+------------+\n",
            "|villager_id|family_member_id|relationship|\n",
            "+-----------+----------------+------------+\n",
            "|    Abigail|          Pierre|      Father|\n",
            "|    Abigail|        Caroline|      Mother|\n",
            "|       Alex|          Evelyn| Grandmother|\n",
            "|       Alex|          George| Grandfather|\n",
            "|   Caroline|          Pierre|     Husband|\n",
            "|   Caroline|         Abigail|    Daughter|\n",
            "|  Demetrius|           Robin|        Wife|\n",
            "|  Demetrius|            Maru|    Daughter|\n",
            "|  Demetrius|       Sebastian|    Step-son|\n",
            "|      Emily|           Haley|      Sister|\n",
            "|     Evelyn|          George|     Husband|\n",
            "|     Evelyn|            Alex|    Grandson|\n",
            "|     George|          Evelyn|        Wife|\n",
            "|     George|            Alex|    Grandson|\n",
            "|      Haley|           Emily|      Sister|\n",
            "|        Jas|          Marnie|        Aunt|\n",
            "|        Jas|           Shane|   Godfather|\n",
            "|       Jodi|            Kent|     Husband|\n",
            "|       Jodi|             Sam|         Son|\n",
            "|       Jodi|         Vincent|         Son|\n",
            "+-----------+----------------+------------+\n",
            "only showing top 20 rows\n",
            "\n",
            "Displaying data from the friends view:\n",
            "+-----------+---------+\n",
            "|villager_id|friend_id|\n",
            "+-----------+---------+\n",
            "|    Abigail|      Sam|\n",
            "|    Abigail|Sebastian|\n",
            "|       Alex|    Haley|\n",
            "|   Caroline|     Jodi|\n",
            "|      Clint|    Emily|\n",
            "|    Elliott|     Leah|\n",
            "|    Elliott|    Willy|\n",
            "|      Emily|    Sandy|\n",
            "|        Gil|   Marlon|\n",
            "|        Gus|      Pam|\n",
            "|      Haley|     Alex|\n",
            "|     Harvey|     Maru|\n",
            "|        Jas|      Leo|\n",
            "|        Jas|  Vincent|\n",
            "|       Jodi| Caroline|\n",
            "|       Leah|  Elliott|\n",
            "|        Leo|      Jas|\n",
            "|        Leo|    Linus|\n",
            "|        Leo|  Vincent|\n",
            "|      Lewis|   Marnie|\n",
            "+-----------+---------+\n",
            "only showing top 20 rows\n",
            "\n",
            "Displaying data from the gifts view:\n",
            "+------------------+-----------+\n",
            "|           gift_id|villager_id|\n",
            "+------------------+-----------+\n",
            "|          Amethyst|    Abigail|\n",
            "|    Banana Pudding|    Abigail|\n",
            "|Blackberry Cobbler|    Abigail|\n",
            "|    Chocolate Cake|    Abigail|\n",
            "|        Pufferfish|    Abigail|\n",
            "|           Pumpkin|    Abigail|\n",
            "|         Spicy Eel|    Abigail|\n",
            "|Complete Breakfast|       Alex|\n",
            "|     Salmon Dinner|       Alex|\n",
            "|         Fish Taco|   Caroline|\n",
            "|         Green Tea|   Caroline|\n",
            "|    Summer Spangle|   Caroline|\n",
            "|    Tropical Curry|   Caroline|\n",
            "|          Amethyst|      Clint|\n",
            "|        Aquamarine|      Clint|\n",
            "|     Artichoke Dip|      Clint|\n",
            "|           Emerald|      Clint|\n",
            "|Fiddlehead Risotto|      Clint|\n",
            "|          Gold Bar|      Clint|\n",
            "|       Iridium Bar|      Clint|\n",
            "+------------------+-----------+\n",
            "only showing top 20 rows\n",
            "\n",
            "Displaying data from the villagers view:\n",
            "+---------+---------+--------------------+------------+--------------------+\n",
            "|     name| birthday|             address|is_marriable|             img_url|\n",
            "+---------+---------+--------------------+------------+--------------------+\n",
            "|  Abigail|  Fall 13|Pierre's General ...|        true|https://stardewva...|\n",
            "|     Alex|Summer 13|        1 River Road|        true|https://stardewva...|\n",
            "|   Birdie|  Unknown|  Hut on Island West|       false|https://stardewva...|\n",
            "|  Bouncer|  Unknown|               Oasis|       false|https://stardewva...|\n",
            "| Caroline| Winter 7|Pierre's General ...|       false|https://stardewva...|\n",
            "|    Clint|Winter 26|          Blacksmith|       false|https://stardewva...|\n",
            "|Demetrius|Summer 19|    24 Mountain Road|       false|https://stardewva...|\n",
            "|    Dwarf|Summer 22|        Eastern Cave|       false|https://stardewva...|\n",
            "|  Elliott|   Fall 5|     Elliott's Cabin|        true|https://stardewva...|\n",
            "|    Emily|Spring 27|       2 Willow Lane|        true|https://stardewva...|\n",
            "|   Evelyn|Winter 20|        1 River Road|       false|https://stardewva...|\n",
            "|   George|  Fall 24|        1 River Road|       false|https://stardewva...|\n",
            "|      Gil|  Unknown|  Adventurer's Guild|       false|https://stardewva...|\n",
            "| Governor|  Unknown|             Unknown|       false|https://stardewva...|\n",
            "|  Grandpa|  Unknown|           Afterlife|       false|https://stardewva...|\n",
            "|  Gunther|  Unknown|              Museum|       false|https://stardewva...|\n",
            "|      Gus| Summer 8| The Stardrop Saloon|       false|https://stardewva...|\n",
            "|    Haley|Spring 14|       2 Willow Lane|        true|https://stardewva...|\n",
            "|   Harvey|Winter 14|      Medical Clinic|        true|https://stardewva...|\n",
            "| Henchman|  Unknown|             Unknown|       false|https://stardewva...|\n",
            "+---------+---------+--------------------+------------+--------------------+\n",
            "only showing top 20 rows\n",
            "\n"
          ]
        }
      ],
      "source": [
        "# Verify 'family' view by displaying the first 20 rows\n",
        "print(\"Displaying data from the family view:\")\n",
        "spark.sql(\"SELECT * FROM family\").show()\n",
        "\n",
        "# Verify 'friends' view by displaying the first 20 rows\n",
        "print(\"Displaying data from the friends view:\")\n",
        "spark.sql(\"SELECT * FROM friends\").show()\n",
        "\n",
        "# Verify 'gifts' view by displaying the first 20 rows\n",
        "print(\"Displaying data from the gifts view:\")\n",
        "spark.sql(\"SELECT * FROM gifts\").show()\n",
        "\n",
        "# Verify 'villagers' view by displaying the first 20 rows\n",
        "print(\"Displaying data from the villagers view:\")\n",
        "spark.sql(\"SELECT * FROM villagers\").show()\n"
      ]
    },
    {
      "cell_type": "markdown",
      "source": [
        "Created DataFrames in PySpark. Using the createOrReplaceTempView method, each DataFrame is registered as a temporary view. These views allowed me to run SQL queries directly on the DataFrame data as if they were tables in a database. Once the views are created, you I used standard SQL queries to interact with the data. This is particularly useful for filtering, aggregating, or joining data in complex ways that are sometimes more intuitive in SQL."
      ],
      "metadata": {
        "id": "q7CZcGneaWgx"
      },
      "id": "q7CZcGneaWgx"
    },
    {
      "cell_type": "markdown",
      "id": "f4541525-ec79-4431-b597-9c701a6bab23",
      "metadata": {
        "id": "f4541525-ec79-4431-b597-9c701a6bab23"
      },
      "source": [
        "#### Assignment 8.3"
      ]
    },
    {
      "cell_type": "markdown",
      "id": "1d24d5a1-5ef8-4392-835f-7656595f71ae",
      "metadata": {
        "id": "1d24d5a1-5ef8-4392-835f-7656595f71ae"
      },
      "source": [
        "##### Assignment 8.3a"
      ]
    },
    {
      "cell_type": "code",
      "execution_count": 10,
      "id": "160611da-71ae-41fa-95d6-bb97bcb45f76",
      "metadata": {
        "colab": {
          "base_uri": "https://localhost:8080/"
        },
        "id": "160611da-71ae-41fa-95d6-bb97bcb45f76",
        "outputId": "bb511dbb-554a-4675-95e2-9e1fe4fc3243"
      },
      "outputs": [
        {
          "output_type": "stream",
          "name": "stdout",
          "text": [
            "+---------+\n",
            "|friend_id|\n",
            "+---------+\n",
            "|  Abigail|\n",
            "|      Sam|\n",
            "+---------+\n",
            "\n"
          ]
        }
      ],
      "source": [
        "# Run SQL query to return a list of Sebastian's friends\n",
        "sebastians_friends_query = \"\"\"\n",
        "SELECT friend_id\n",
        "FROM friends\n",
        "WHERE villager_id = 'Sebastian'\n",
        "\"\"\"\n",
        "result = spark.sql(sebastians_friends_query)\n",
        "result.show()\n"
      ]
    },
    {
      "cell_type": "markdown",
      "id": "df68b568-1bea-4e18-b257-ce1a4cc4296d",
      "metadata": {
        "id": "df68b568-1bea-4e18-b257-ce1a4cc4296d"
      },
      "source": [
        "##### Assignment 8.3b"
      ]
    },
    {
      "cell_type": "code",
      "execution_count": 11,
      "id": "272e81b3-98e0-4995-bfa2-0edd589c4098",
      "metadata": {
        "colab": {
          "base_uri": "https://localhost:8080/"
        },
        "id": "272e81b3-98e0-4995-bfa2-0edd589c4098",
        "outputId": "6c112271-330f-452c-b9f0-e06b7310b5c5"
      },
      "outputs": [
        {
          "output_type": "stream",
          "name": "stdout",
          "text": [
            "+-----------+-----------------+\n",
            "|villager_id|number_of_friends|\n",
            "+-----------+-----------------+\n",
            "|      Clint|                1|\n",
            "|       Jodi|                1|\n",
            "|     Harvey|                1|\n",
            "|       Alex|                1|\n",
            "|    Elliott|                2|\n",
            "|      Emily|                1|\n",
            "|       Leah|                1|\n",
            "|        Gus|                1|\n",
            "|        Leo|                3|\n",
            "|        Jas|                2|\n",
            "|      Haley|                1|\n",
            "|    Abigail|                2|\n",
            "|   Caroline|                1|\n",
            "|        Gil|                1|\n",
            "|      Penny|                2|\n",
            "|      Sandy|                1|\n",
            "|      Linus|                2|\n",
            "|     Wizard|                1|\n",
            "|      Lewis|                1|\n",
            "|      Willy|                1|\n",
            "+-----------+-----------------+\n",
            "only showing top 20 rows\n",
            "\n"
          ]
        }
      ],
      "source": [
        "# Group the 'friends' table by 'villager_id' and perform a count of number of friends for each villager\n",
        "friends_count_query = \"\"\"\n",
        "SELECT villager_id, COUNT(friend_id) as number_of_friends\n",
        "FROM friends\n",
        "GROUP BY villager_id\n",
        "\"\"\"\n",
        "result_grouped = spark.sql(friends_count_query)\n",
        "result_grouped.show()\n"
      ]
    },
    {
      "cell_type": "markdown",
      "source": [
        "\n",
        "Used a SELECT statement to retrieve specific information from a view. Fetched all friends of a particular character in a game or dataset by filtering based on a column value (like villager_id). Used SQL to group data by certain identifiers and performing calculations on each group, such as counting the number of friends each villager has. Each SQL query is executed using the spark.sql() method and results were exhibited via show().\n"
      ],
      "metadata": {
        "id": "0ftwJgUtaqE-"
      },
      "id": "0ftwJgUtaqE-"
    },
    {
      "cell_type": "code",
      "execution_count": null,
      "id": "90a165fe-c013-4cbd-999d-7eebee6c0649",
      "metadata": {
        "id": "90a165fe-c013-4cbd-999d-7eebee6c0649"
      },
      "outputs": [],
      "source": []
    }
  ],
  "metadata": {
    "kernelspec": {
      "display_name": "Python 3 (ipykernel)",
      "language": "python",
      "name": "python3"
    },
    "language_info": {
      "codemirror_mode": {
        "name": "ipython",
        "version": 3
      },
      "file_extension": ".py",
      "mimetype": "text/x-python",
      "name": "python",
      "nbconvert_exporter": "python",
      "pygments_lexer": "ipython3",
      "version": "3.9.19"
    },
    "colab": {
      "provenance": []
    }
  },
  "nbformat": 4,
  "nbformat_minor": 5
}