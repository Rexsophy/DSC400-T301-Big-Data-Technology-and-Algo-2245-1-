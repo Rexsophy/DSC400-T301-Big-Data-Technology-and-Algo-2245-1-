{
 "cells": [
  {
   "cell_type": "markdown",
   "id": "a41b29e7-eea7-4554-a9b8-c221361f848d",
   "metadata": {},
   "source": [
    "#### Rex Gayas\n",
    "#### Week 12 Exercise 12.2 Spring 2024\n",
    "#### DSC400-T301 Big Data, Technology, and Algo (2245-1)\n",
    "#### Deploying Machine Learning Models - Client"
   ]
  },
  {
   "cell_type": "markdown",
   "id": "e48197de-2e65-4499-987a-a2a88ce03e50",
   "metadata": {},
   "source": [
    "#### Assignment 12.1"
   ]
  },
  {
   "cell_type": "code",
   "execution_count": 1,
   "id": "f2c0202a-bb9b-41a3-a92b-5d355e189bba",
   "metadata": {},
   "outputs": [],
   "source": [
    "import requests\n",
    "import time\n"
   ]
  },
  {
   "cell_type": "code",
   "execution_count": 2,
   "id": "fb30690b-b434-49cf-acb9-daca34f47ab2",
   "metadata": {},
   "outputs": [],
   "source": [
    "def classify_request(img_url, host='localhost', port='9999', path='classify'):\n",
    "    api_endpoint = f'http://{host}:{port}/{path}'\n",
    "    params = {'img': img_url}\n",
    "    r = requests.get(api_endpoint, params=params)\n",
    "    print(f'Request URL: {r.url}')\n",
    "    if r.status_code == 200:\n",
    "        print(f'Content Type: {r.headers[\"content-type\"]}')\n",
    "        return r.json()\n",
    "    else:\n",
    "        print(f'Status Code: {r.status_code}')\n"
   ]
  },
  {
   "cell_type": "code",
   "execution_count": 3,
   "id": "d7a9d960-7351-4337-9706-2552f5bf0b7f",
   "metadata": {},
   "outputs": [
    {
     "name": "stdout",
     "output_type": "stream",
     "text": [
      "Request URL: http://localhost:9999/classify?img=https%3A%2F%2Fs7d1.scene7.com%2Fis%2Fimage%2FCENODS%2F09928-leadcon-protein%3F%24responsive%24%26wid%3D700%26qlt%3D90%2C0%26resMode%3Dsharp2\n",
      "Content Type: application/json\n",
      "{'predictions': [{'class': 'envelope', 'description': 'envelope', 'score': 0.5647199749946594}, {'class': 'necklace', 'description': 'necklace', 'score': 0.27004367113113403}, {'class': 'jigsaw_puzzle', 'description': 'jigsaw_puzzle', 'score': 0.025932442396879196}]}\n"
     ]
    }
   ],
   "source": [
    "time_between_requests = 10\n",
    "img_urls = [\n",
    "    'https://s7d1.scene7.com/is/image/CENODS/09928-leadcon-protein?$responsive$&wid=700&qlt=90,0&resMode=sharp2'\n",
    "]\n",
    "\n",
    "for img_url in img_urls:\n",
    "    result = classify_request(img_url)\n",
    "    print(result)\n",
    "    time.sleep(time_between_requests)\n"
   ]
  },
  {
   "cell_type": "markdown",
   "id": "003a9289-816f-400c-9057-23e112a3050e",
   "metadata": {},
   "source": [
    "#### Assignment 12.3"
   ]
  },
  {
   "cell_type": "code",
   "execution_count": 5,
   "id": "f8364e2c-4476-40b8-b2d7-9a24e5d6cb7b",
   "metadata": {},
   "outputs": [
    {
     "name": "stdout",
     "output_type": "stream",
     "text": [
      "{'src_img': 'https://source.unsplash.com/random/224x224?sig=1', 'predictions': [{'class_name': 'n02892767', 'class_description': 'brassiere', 'score': 0.37260952591896057}, {'class_name': 'n02837789', 'class_description': 'bikini', 'score': 0.23729382455348969}, {'class_name': 'n03710637', 'class_description': 'maillot', 'score': 0.23144832253456116}, {'class_name': 'n03710721', 'class_description': 'maillot', 'score': 0.0954504981637001}, {'class_name': 'n03188531', 'class_description': 'diaper', 'score': 0.041867468506097794}]}\n"
     ]
    }
   ],
   "source": [
    "import requests\n",
    "\n",
    "# Test the server\n",
    "img_url = \"https://source.unsplash.com/random/224x224?sig=1\"\n",
    "response = requests.get(f'http://127.0.0.1:8000/classify?img_url={img_url}')\n",
    "print(response.json())\n"
   ]
  },
  {
   "cell_type": "code",
   "execution_count": null,
   "id": "dd155c27-269b-4f93-81be-4d1a8ffaebcc",
   "metadata": {},
   "outputs": [],
   "source": []
  }
 ],
 "metadata": {
  "kernelspec": {
   "display_name": "Python 3 (ipykernel)",
   "language": "python",
   "name": "python3"
  },
  "language_info": {
   "codemirror_mode": {
    "name": "ipython",
    "version": 3
   },
   "file_extension": ".py",
   "mimetype": "text/x-python",
   "name": "python",
   "nbconvert_exporter": "python",
   "pygments_lexer": "ipython3",
   "version": "3.9.19"
  }
 },
 "nbformat": 4,
 "nbformat_minor": 5
}
