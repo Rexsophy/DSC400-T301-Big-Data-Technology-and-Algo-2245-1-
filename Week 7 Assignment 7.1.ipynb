{
 "cells": [
  {
   "cell_type": "markdown",
   "id": "36525325-a7d0-4e02-a111-77a36c82e1af",
   "metadata": {},
   "source": [
    "#### Rex Gayas\n",
    "#### Week 7 Assignment 7.1 Spring 2024\n",
    "#### DSC400-T301 Big Data, Technology, and Algo (2245-1)\n",
    "#### Stream Processing with Spark"
   ]
  },
  {
   "cell_type": "code",
   "execution_count": null,
   "id": "1d7cbe3b-a1cf-4ab0-b294-db79251847db",
   "metadata": {},
   "outputs": [
    {
     "name": "stderr",
     "output_type": "stream",
     "text": [
      "24/04/28 16:41:54 WARN Utils: Your hostname, Rexsophy resolves to a loopback address: 127.0.1.1; using 172.26.141.55 instead (on interface eth0)\n",
      "24/04/28 16:41:54 WARN Utils: Set SPARK_LOCAL_IP if you need to bind to another address\n",
      "Setting default log level to \"WARN\".\n",
      "To adjust logging level use sc.setLogLevel(newLevel). For SparkR, use setLogLevel(newLevel).\n",
      "24/04/28 16:41:56 WARN NativeCodeLoader: Unable to load native-hadoop library for your platform... using builtin-java classes where applicable\n",
      "24/04/28 16:41:58 WARN TextSocketSourceProvider: The socket source should not be used for production applications! It does not support recovery.\n",
      "24/04/28 16:41:59 WARN ResolveWriteToStream: Temporary checkpoint location created which is deleted normally when the query didn't fail: /tmp/temporary-b6987150-f9d4-4ff5-8068-64166576c04e. If it's required to delete it under any circumstances, please set spark.sql.streaming.forceDeleteTempCheckpointLocation to true. Important to know deleting temp checkpoint folder is best effort.\n",
      "24/04/28 16:41:59 WARN ResolveWriteToStream: spark.sql.adaptive.enabled is not supported in streaming DataFrames/Datasets and will be disabled.\n",
      "                                                                                \r"
     ]
    },
    {
     "name": "stdout",
     "output_type": "stream",
     "text": [
      "-------------------------------------------\n",
      "Batch: 0\n",
      "-------------------------------------------\n",
      "+----+-----+\n",
      "|word|count|\n",
      "+----+-----+\n",
      "+----+-----+\n",
      "\n"
     ]
    },
    {
     "name": "stderr",
     "output_type": "stream",
     "text": [
      "                                                                                \r"
     ]
    },
    {
     "name": "stdout",
     "output_type": "stream",
     "text": [
      "-------------------------------------------\n",
      "Batch: 1\n",
      "-------------------------------------------\n",
      "+--------+-----+\n",
      "|    word|count|\n",
      "+--------+-----+\n",
      "|  online|    1|\n",
      "|   parts|    1|\n",
      "|  anyone|    1|\n",
      "|    copy|    1|\n",
      "|      by|    1|\n",
      "|     for|    1|\n",
      "|   under|    1|\n",
      "|      in|    1|\n",
      "|  States|    1|\n",
      "|   Homer|    1|\n",
      "|Odyssey,|    1|\n",
      "|    with|    2|\n",
      "|   terms|    1|\n",
      "|     may|    1|\n",
      "|   other|    1|\n",
      "|      is|    1|\n",
      "|     use|    1|\n",
      "|    cost|    1|\n",
      "|      it|    2|\n",
      "|     You|    1|\n",
      "+--------+-----+\n",
      "only showing top 20 rows\n",
      "\n"
     ]
    },
    {
     "name": "stderr",
     "output_type": "stream",
     "text": [
      "                                                                                \r"
     ]
    },
    {
     "name": "stdout",
     "output_type": "stream",
     "text": [
      "-------------------------------------------\n",
      "Batch: 2\n",
      "-------------------------------------------\n",
      "+----------+-----+\n",
      "|      word|count|\n",
      "+----------+-----+\n",
      "| arguments|    1|\n",
      "|     those|    1|\n",
      "|      some|    2|\n",
      "|mentioned;|    1|\n",
      "|    online|    1|\n",
      "|      CAV.|    1|\n",
      "|     parts|    1|\n",
      "| unwieldy,|    1|\n",
      "|      now.|    1|\n",
      "|    Title:|    1|\n",
      "|     XVII.|    1|\n",
      "|        If|    1|\n",
      "|   useful.|    1|\n",
      "|       did|    1|\n",
      "|       20,|    1|\n",
      "|       two|    1|\n",
      "| existence|    1|\n",
      "|      BOOK|   24|\n",
      "|    anyone|    1|\n",
      "| Language:|    1|\n",
      "+----------+-----+\n",
      "only showing top 20 rows\n",
      "\n"
     ]
    }
   ],
   "source": [
    "# Import SparkSession and necessary functions from PySpark\n",
    "from pyspark.sql import SparkSession\n",
    "from pyspark.sql.functions import explode, split\n",
    "\n",
    "# Initialize a SparkSession for structured streaming\n",
    "spark = SparkSession \\\n",
    "    .builder \\\n",
    "    .appName(\"Assignment 7.1\") \\\n",
    "    .getOrCreate()\n",
    "\n",
    "# Define the input data stream coming from netcat\n",
    "lines = spark \\\n",
    "    .readStream \\\n",
    "    .format(\"socket\") \\\n",
    "    .option(\"host\", \"localhost\") \\\n",
    "    .option(\"port\", 9999) \\\n",
    "    .load()\n",
    "\n",
    "# Split the lines into words using the explode and split functions\n",
    "words = lines.select(\n",
    "    explode(\n",
    "        split(lines.value, \" \")\n",
    "    ).alias(\"word\")\n",
    ")\n",
    "\n",
    "# Generate the running word count using groupBy and count functions\n",
    "wordCounts = words.groupBy(\"word\").count()\n",
    "\n",
    "# Define the query to write the results to the console\n",
    "try:\n",
    "    query = wordCounts \\\n",
    "        .writeStream \\\n",
    "        .outputMode(\"complete\") \\\n",
    "        .format(\"console\") \\\n",
    "        .start()\n",
    "\n",
    "    # Wait for the streaming to finish\n",
    "    query.awaitTermination()\n",
    "except KeyboardInterrupt:\n",
    "    # Handle the interruption gracefully\n",
    "    print('Stopping query')\n"
   ]
  },
  {
   "cell_type": "code",
   "execution_count": null,
   "id": "278b4d5c-c69c-4a4c-ac77-328499a9f156",
   "metadata": {},
   "outputs": [],
   "source": []
  }
 ],
 "metadata": {
  "kernelspec": {
   "display_name": "Python 3 (ipykernel)",
   "language": "python",
   "name": "python3"
  },
  "language_info": {
   "codemirror_mode": {
    "name": "ipython",
    "version": 3
   },
   "file_extension": ".py",
   "mimetype": "text/x-python",
   "name": "python",
   "nbconvert_exporter": "python",
   "pygments_lexer": "ipython3",
   "version": "3.10.12"
  }
 },
 "nbformat": 4,
 "nbformat_minor": 5
}
