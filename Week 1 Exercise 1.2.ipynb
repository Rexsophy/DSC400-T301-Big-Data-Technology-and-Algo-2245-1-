{
 "cells": [
  {
   "cell_type": "markdown",
   "id": "654bab31-f6fa-420f-93fd-6b9a8b194982",
   "metadata": {},
   "source": [
    "#### Rex Gayas\n",
    "#### Week 1 Exercise 1.2 Spring 2024\r\n",
    "#### DSC400-T301 Big Data, Technology, and Algo (2245-1)\r\n",
    "#### Characteristics of Big Daa\r\n"
   ]
  },
  {
   "cell_type": "code",
   "execution_count": 40,
   "id": "0ae06fe2-6429-4e3d-8982-813e3b857f11",
   "metadata": {},
   "outputs": [],
   "source": [
    "# This code helps check asssignment data\n",
    "\n",
    "import pandas as pd\n",
    "from collections import namedtuple\n",
    "from dataclasses import dataclass\n",
    "\n",
    "InformationUnit = namedtuple('InformationUnit', ['name', 'size'])\n",
    "DataItem = namedtuple('DataItem', ['name', 'size', 'unit'])\n",
    "LatencyItem = namedtuple('LatencyItem', ['name', 'time', 'unit', 'explanation'])\n",
    "\n",
    "information_units = dict(\n",
    "    B=InformationUnit(\"byte\", 1),\n",
    "    KB=InformationUnit(\"kilobyte\", 1e3),\n",
    "    MB=InformationUnit(\"megabyte\", 1e6),\n",
    "    GB=InformationUnit(\"gigabyte\", 1e9),\n",
    "    TB=InformationUnit(\"terabyte\", 1e12),\n",
    "    PB=InformationUnit(\"petabyte\", 1e15),\n",
    "    EB=InformationUnit(\"exabyte\", 1e18),\n",
    "    ZB=InformationUnit(\"zettabyte\", 1e21),\n",
    "    YB=InformationUnit(\"yottabyte\", 1e24)\n",
    ")\n",
    "\n",
    "time_units = {\n",
    "    \"ms\": \"millisecond\",\n",
    "    \"s\": \"second\",\n",
    "    \"min\": \"minute\"\n",
    "}\n",
    "\n",
    "def check_data_items(items):\n",
    "    # Checks to see if data sizes and units are filled out correctly\n",
    "    for item in items:\n",
    "        assert item.size > 0, 'Size for \"{}\" should be greater than zero'.format(item.name)\n",
    "        assert item.unit in information_units, 'Unit \"{}\" not in units dictionary'.format(item.unit)\n",
    "        \n",
    "def check_latency_items(items):\n",
    "    # Checks to see if time sizes and units are filled out correctly\n",
    "    for item in items:\n",
    "        # assert item.time > 0, 'Time for \"{}\" should be greater than zero'.format(item.name)\n",
    "        assert item.unit in time_units, 'Unit \"{}\" not in time units dictionary'.format(item.unit)\n",
    "        assert item.explanation != \"FILL IN THE EXPLANATION HERE\", 'Fill in explanation for \"{}\"'.format(item.name)"
   ]
  },
  {
   "cell_type": "markdown",
   "id": "f9f85490-0f05-4760-b0e2-68c689927800",
   "metadata": {},
   "source": [
    "#### Assignment 1.1"
   ]
  },
  {
   "cell_type": "code",
   "execution_count": 41,
   "id": "ff1d4711-cac6-466a-bebe-c3837fad57d2",
   "metadata": {},
   "outputs": [
    {
     "data": {
      "text/html": [
       "<style type=\"text/css\">\n",
       "</style>\n",
       "<table id=\"T_60bd4\">\n",
       "  <thead>\n",
       "    <tr>\n",
       "      <th id=\"T_60bd4_level0_col0\" class=\"col_heading level0 col0\" >name</th>\n",
       "      <th id=\"T_60bd4_level0_col1\" class=\"col_heading level0 col1\" >size</th>\n",
       "      <th id=\"T_60bd4_level0_col2\" class=\"col_heading level0 col2\" >unit</th>\n",
       "      <th id=\"T_60bd4_level0_col3\" class=\"col_heading level0 col3\" >rationale</th>\n",
       "    </tr>\n",
       "  </thead>\n",
       "  <tbody>\n",
       "    <tr>\n",
       "      <td id=\"T_60bd4_row0_col0\" class=\"data row0 col0\" >128 character message</td>\n",
       "      <td id=\"T_60bd4_row0_col1\" class=\"data row0 col1\" >128.00</td>\n",
       "      <td id=\"T_60bd4_row0_col2\" class=\"data row0 col2\" >B</td>\n",
       "      <td id=\"T_60bd4_row0_col3\" class=\"data row0 col3\" >Assuming ASCII encoding, each character is 1 byte.</td>\n",
       "    </tr>\n",
       "    <tr>\n",
       "      <td id=\"T_60bd4_row1_col0\" class=\"data row1 col0\" >1024x768 PNG image</td>\n",
       "      <td id=\"T_60bd4_row1_col1\" class=\"data row1 col1\" >2.25</td>\n",
       "      <td id=\"T_60bd4_row1_col2\" class=\"data row1 col2\" >MB</td>\n",
       "      <td id=\"T_60bd4_row1_col3\" class=\"data row1 col3\" >A typical 24-bit PNG, with a compression ratio that results in a 2.25 MB size.</td>\n",
       "    </tr>\n",
       "    <tr>\n",
       "      <td id=\"T_60bd4_row2_col0\" class=\"data row2 col0\" >1024x768 RAW image</td>\n",
       "      <td id=\"T_60bd4_row2_col1\" class=\"data row2 col1\" >2.25</td>\n",
       "      <td id=\"T_60bd4_row2_col2\" class=\"data row2 col2\" >MB</td>\n",
       "      <td id=\"T_60bd4_row2_col3\" class=\"data row2 col3\" >Uncompressed 24-bit image: 1024x768 pixels * 3 bytes/pixel.</td>\n",
       "    </tr>\n",
       "    <tr>\n",
       "      <td id=\"T_60bd4_row3_col0\" class=\"data row3 col0\" >HD (1080p) HEVC Video (15 minutes)</td>\n",
       "      <td id=\"T_60bd4_row3_col1\" class=\"data row3 col1\" >337.50</td>\n",
       "      <td id=\"T_60bd4_row3_col2\" class=\"data row3 col2\" >MB</td>\n",
       "      <td id=\"T_60bd4_row3_col3\" class=\"data row3 col3\" >5 Mbps typical bit rate for 1080p HEVC video over 15 min.</td>\n",
       "    </tr>\n",
       "    <tr>\n",
       "      <td id=\"T_60bd4_row4_col0\" class=\"data row4 col0\" >HD (1080p) Uncompressed Video (15 minutes)</td>\n",
       "      <td id=\"T_60bd4_row4_col1\" class=\"data row4 col1\" >160180.66</td>\n",
       "      <td id=\"T_60bd4_row4_col2\" class=\"data row4 col2\" >MB</td>\n",
       "      <td id=\"T_60bd4_row4_col3\" class=\"data row4 col3\" >Uncompressed 24-bit 1080p video at 30 fps for 15 min.</td>\n",
       "    </tr>\n",
       "    <tr>\n",
       "      <td id=\"T_60bd4_row5_col0\" class=\"data row5 col0\" >4K UHD HEVC Video (15 minutes)</td>\n",
       "      <td id=\"T_60bd4_row5_col1\" class=\"data row5 col1\" >1687.50</td>\n",
       "      <td id=\"T_60bd4_row5_col2\" class=\"data row5 col2\" >MB</td>\n",
       "      <td id=\"T_60bd4_row5_col3\" class=\"data row5 col3\" >25 Mbps bit rate for 4K HEVC video over 15 min.</td>\n",
       "    </tr>\n",
       "    <tr>\n",
       "      <td id=\"T_60bd4_row6_col0\" class=\"data row6 col0\" >4K UHD Uncompressed Video (15 minutes)</td>\n",
       "      <td id=\"T_60bd4_row6_col1\" class=\"data row6 col1\" >640722.66</td>\n",
       "      <td id=\"T_60bd4_row6_col2\" class=\"data row6 col2\" >MB</td>\n",
       "      <td id=\"T_60bd4_row6_col3\" class=\"data row6 col3\" >Uncompressed 24-bit 4K video at 30 fps for 15 min.</td>\n",
       "    </tr>\n",
       "    <tr>\n",
       "      <td id=\"T_60bd4_row7_col0\" class=\"data row7 col0\" >Human Genome (Uncompressed)</td>\n",
       "      <td id=\"T_60bd4_row7_col1\" class=\"data row7 col1\" >0.72</td>\n",
       "      <td id=\"T_60bd4_row7_col2\" class=\"data row7 col2\" >GB</td>\n",
       "      <td id=\"T_60bd4_row7_col3\" class=\"data row7 col3\" >Approximately 3.1 billion base pairs, roughly represented in gigabytes when encoded.</td>\n",
       "    </tr>\n",
       "  </tbody>\n",
       "</table>\n"
      ],
      "text/plain": [
       "<pandas.io.formats.style.Styler at 0x2ad60ce2b50>"
      ]
     },
     "execution_count": 41,
     "metadata": {},
     "output_type": "execute_result"
    }
   ],
   "source": [
    "import pandas as pd\n",
    "from collections import namedtuple\n",
    "\n",
    "DataItem = namedtuple('DataItem', ['name', 'size', 'unit', 'rationale'])\n",
    "\n",
    "# Define the estimated sizes for each data item with rationale\n",
    "items1_1 = [\n",
    "    DataItem(\"128 character message\", 128, 'B', \"Assuming ASCII encoding, each character is 1 byte.\"),\n",
    "    DataItem(\"1024x768 PNG image\", 2.25, 'MB', \"A typical 24-bit PNG, with a compression ratio that results in a 2.25 MB size.\"),\n",
    "    DataItem(\"1024x768 RAW image\", 2.25, 'MB', \"Uncompressed 24-bit image: 1024x768 pixels * 3 bytes/pixel.\"),\n",
    "    DataItem(\"HD (1080p) HEVC Video (15 minutes)\", 337.5, 'MB', \"5 Mbps typical bit rate for 1080p HEVC video over 15 min.\"),\n",
    "    DataItem(\"HD (1080p) Uncompressed Video (15 minutes)\", (1920 * 1080 * 3 * 30 * 15 * 60) / (1024**2), 'MB', \"Uncompressed 24-bit 1080p video at 30 fps for 15 min.\"),\n",
    "    DataItem(\"4K UHD HEVC Video (15 minutes)\", 1687.5, 'MB', \"25 Mbps bit rate for 4K HEVC video over 15 min.\"),\n",
    "    DataItem(\"4K UHD Uncompressed Video (15 minutes)\", (3840 * 2160 * 3 * 30 * 15 * 60) / (1024**2), 'MB', \"Uncompressed 24-bit 4K video at 30 fps for 15 min.\"),\n",
    "    DataItem(\"Human Genome (Uncompressed)\", (3.1e9 * 2) / (8 * 1024**3), 'GB', \"Approximately 3.1 billion base pairs, roughly represented in gigabytes when encoded.\")\n",
    "]\n",
    "\n",
    "# Convert to DataFrame\n",
    "df1_1 = pd.DataFrame(items1_1)\n",
    "\n",
    "# Format the 'size' column to display only two decimal places and hide the index\n",
    "df1_1.style.format({'size': \"{:.2f}\"}).hide(axis='index')\n",
    "\n"
   ]
  },
  {
   "cell_type": "code",
   "execution_count": 42,
   "id": "9f61c298-48bb-4fdd-b02e-506c94c14109",
   "metadata": {},
   "outputs": [],
   "source": [
    "# Check that the data items are filled out correctly. \n",
    "# Since Assignment 1.1 did not deal with latency items then only check_data_items is ran. \n",
    "\n",
    "def check_data_items(items):\n",
    "    # Checks to see if data sizes and units are filled out correctly\n",
    "    for item in items:\n",
    "        assert item.size > 0, 'Size for \"{}\" should be greater than zero'.format(item.name)\n",
    "        assert item.unit in information_units, 'Unit \"{}\" not in units dictionary'.format(item.unit)\n",
    "\n",
    "# Call the check function \n",
    "check_data_items(items1_1)"
   ]
  },
  {
   "cell_type": "markdown",
   "id": "de3b3e35-4027-411c-acd2-a311fffaca12",
   "metadata": {},
   "source": [
    "No output or assertion errors indicates that all DataItem entries have a size greater than zero and the unit for each is present in the information_units dictionary, and means the items were correctly defined as per the requirements in the check_data_items function. Hence, checks were successful. "
   ]
  },
  {
   "cell_type": "markdown",
   "id": "eeac7ace-a166-4577-ab5e-e2991093093d",
   "metadata": {},
   "source": [
    "##### References:\r\n",
    "- [Display Resolution - Wikipedia](https://en.wikipedia.org/wiki/Display_resolution)\r\n",
    "- [Human Genome Project - Wikipedia](https://en.wikipedia.org/wiki/Human_Genome_Project)\r\n",
    "\r\n"
   ]
  },
  {
   "cell_type": "markdown",
   "id": "5e3588da-2d1c-413e-9dd6-50265e5207b0",
   "metadata": {},
   "source": [
    "#### Assignment 1.2"
   ]
  },
  {
   "cell_type": "code",
   "execution_count": 43,
   "id": "fd8d8ae9-8f6e-4047-94b7-3d0689684e5d",
   "metadata": {},
   "outputs": [
    {
     "name": "stdout",
     "output_type": "stream",
     "text": [
      "Daily Twitter Tweets (Uncompressed): 0.058208 TB\n",
      "Daily Twitter Tweets (Snappy Compressed): 0.038805 TB\n",
      "Daily Instagram Photos: 164794.921875 GB\n",
      "Daily YouTube Videos: 205.993652 TB\n",
      "Yearly Twitter Tweets (Uncompressed): 0.020748 PB\n",
      "Yearly Twitter Tweets (Snappy Compressed): 0.013832 PB\n",
      "Yearly Instagram Photos: 57.363650 PB\n",
      "Yearly YouTube Videos: 75187.683105 PB\n"
     ]
    }
   ],
   "source": [
    "# Constants for bytes conversion\n",
    "BYTE = 1\n",
    "KB = 1024 * BYTE\n",
    "MB = 1024 * KB\n",
    "GB = 1024 * MB\n",
    "TB = 1024 * GB\n",
    "PB = 1024 * TB\n",
    "\n",
    "# Twitter calculations (if 128 bytes per tweet)\n",
    "daily_tweets_byte = 500e6 * 128 * BYTE  # Bytes per day for Twitter\n",
    "daily_tweets_TB = daily_tweets_byte / TB  # Convert bytes to TB\n",
    "yearly_tweets_PB = (daily_tweets_byte * 365) / PB  # Convert bytes to PB\n",
    "\n",
    "# Compressing Twitter data with Snappy\n",
    "snappy_compression_ratio = 1.5\n",
    "daily_tweets_compressed_TB = daily_tweets_TB / snappy_compression_ratio  # Compressed size in TB\n",
    "yearly_tweets_compressed_PB = yearly_tweets_PB / snappy_compression_ratio  # Compressed size in PB\n",
    "\n",
    "# Instagram calculations (75% of 100 million are photos)\n",
    "daily_instagram_photos_byte = (100e6 * 0.75) * (1024 * 768 * 3) * BYTE  # Bytes per day for Instagram\n",
    "daily_instagram_photos_GB = daily_instagram_photos_byte / GB  # Convert bytes to GB\n",
    "yearly_instagram_photos_PB = (daily_instagram_photos_byte * 365) / PB  # Convert bytes to PB\n",
    "\n",
    "# YouTube calculations (5 MB per second for HD video)\n",
    "youtube_video_bytes_per_second = 5 * MB  # Bytes per second for YouTube\n",
    "daily_youtube_seconds = (500 * 60 * 60 * 24)  # Total seconds of video uploaded per day\n",
    "daily_youtube_TB = (youtube_video_bytes_per_second * daily_youtube_seconds) / TB  # Convert bytes to TB\n",
    "yearly_youtube_PB = daily_youtube_TB * 365  # Convert daily TB to yearly PB\n",
    "\n",
    "# Generate the output as a list of tuples\n",
    "output = [\n",
    "    (\"Daily Twitter Tweets (Uncompressed)\", daily_tweets_TB, \"TB\"),\n",
    "    (\"Daily Twitter Tweets (Snappy Compressed)\", daily_tweets_compressed_TB, \"TB\"),\n",
    "    (\"Daily Instagram Photos\", daily_instagram_photos_GB, \"GB\"),\n",
    "    (\"Daily YouTube Videos\", daily_youtube_TB, \"TB\"),\n",
    "    (\"Yearly Twitter Tweets (Uncompressed)\", yearly_tweets_PB, \"PB\"),\n",
    "    (\"Yearly Twitter Tweets (Snappy Compressed)\", yearly_tweets_compressed_PB, \"PB\"),\n",
    "    (\"Yearly Instagram Photos\", yearly_instagram_photos_PB, \"PB\"),\n",
    "    (\"Yearly YouTube Videos\", yearly_youtube_PB, \"PB\"),\n",
    "]\n",
    "\n",
    "# Print results\n",
    "for item in output:\n",
    "    print(f\"{item[0]}: {item[1]:.6f} {item[2]}\")\n"
   ]
  },
  {
   "cell_type": "code",
   "execution_count": 44,
   "id": "b07908cd-ee70-415d-9a7b-c5db2bf1ec03",
   "metadata": {},
   "outputs": [],
   "source": [
    "# Define the DataItem namedtuple and check_data_items function \n",
    "from collections import namedtuple\n",
    "\n",
    "# Define the namedtuples\n",
    "InformationUnit = namedtuple('InformationUnit', ['name', 'size', 'unit'])\n",
    "DataItem = namedtuple('DataItem', ['name', 'size', 'unit'])\n",
    "\n",
    "# Define the information units for reference\n",
    "information_units = {\n",
    "    'B': InformationUnit(\"byte\", 1, 'B'),\n",
    "    'KB': InformationUnit(\"kilobyte\", 10**3, 'B'),\n",
    "    'MB': InformationUnit(\"megabyte\", 10**6, 'B'),\n",
    "    'GB': InformationUnit(\"gigabyte\", 10**9, 'B'),\n",
    "    'TB': InformationUnit(\"terabyte\", 10**12, 'B'),\n",
    "    'PB': InformationUnit(\"petabyte\", 10**15, 'B'),\n",
    "    'EB': InformationUnit(\"exabyte\", 10**18, 'B'),\n",
    "    'ZB': InformationUnit(\"zettabyte\", 10**21, 'B'),\n",
    "    'YB': InformationUnit(\"yottabyte\", 10**24, 'B')\n",
    "}\n",
    "\n",
    "def check_data_items(items):\n",
    "    # Checks if data sizes and units are filled out correctly\n",
    "    for item in items:\n",
    "        assert item.size > 0, 'Size for \"{}\" should be greater than zero'.format(item.name)\n",
    "        assert item.unit in information_units, 'Unit \"{}\" not in units dictionary'.format(item.unit)\n",
    "\n",
    "# Define list of DataItems\n",
    "\n",
    "items1_2 = [\n",
    "    DataItem(\"Daily Twitter Tweets (Uncompressed)\", 0.058208, \"TB\"),\n",
    "    DataItem(\"Daily Twitter Tweets (Snappy Compressed)\", 0.038805, \"PB\"),\n",
    "    DataItem(\"Daily Instagram Photos\", 164794.921875, \"GB\"),\n",
    "    DataItem(\"Daily YouTube Videos\", 8.583069, \"TB\"),\n",
    "    DataItem(\"Yearly Twitter Tweets (Uncompressed)\", 0.020748, \"PB\"),\n",
    "    DataItem(\"Yearly Twitter Tweets (Snappy Compressed)\", 0.013832, \"PB\"),\n",
    "    DataItem(\"Yearly Instagram Photos\", 57.363650, \"PB\"),\n",
    "    DataItem(\"Yearly YouTube Videos\", 75187.683105, \"PB\")\n",
    "]\n",
    "\n",
    "# Run the check_data_items function to validate the data.\n",
    "check_data_items(items1_2)\n"
   ]
  },
  {
   "cell_type": "markdown",
   "id": "7c8eb0f3-62ee-464b-8975-321283f0b847",
   "metadata": {},
   "source": [
    "No output implies that the assertions in check_data_items did not fail, which means that all the DataItems have valid sizes and units as per the checks implemented in the function."
   ]
  },
  {
   "cell_type": "markdown",
   "id": "cd0cef3a-35a9-4ca0-87b6-d34be09f4696",
   "metadata": {},
   "source": [
    "##### References:\n",
    "- [Snappy - Google's compression library on GitHub](https://github.com/google/snappy)"
   ]
  },
  {
   "cell_type": "markdown",
   "id": "ac57f3fb-0946-44e2-9112-20e799f02e9a",
   "metadata": {},
   "source": [
    "#### Assignment 1.3"
   ]
  },
  {
   "cell_type": "code",
   "execution_count": 45,
   "id": "bb4d270e-9cac-4686-a4ff-ac1f96ed8487",
   "metadata": {},
   "outputs": [
    {
     "name": "stdout",
     "output_type": "stream",
     "text": [
      "                        name         time unit  \\\n",
      "0   Los Angeles to Amsterdam    45.031222   ms   \n",
      "1  Low Earth Orbit Satellite     6.671292   ms   \n",
      "2    Geostationary Satellite   119.369429   ms   \n",
      "3          Earth to the Moon  1282.222341   ms   \n",
      "4              Earth to Mars     3.035438  min   \n",
      "\n",
      "                                           rationale  \n",
      "0  Calculated using the approximate straight line...  \n",
      "1  Calculated using the height of LEO satellites ...  \n",
      "2  Calculated using the orbit height of geostatio...  \n",
      "3  Calculated using the average Earth-to-Moon dis...  \n",
      "4  Calculated using the average minimum Earth-to-...  \n"
     ]
    }
   ],
   "source": [
    "import pandas as pd\n",
    "from collections import namedtuple\n",
    "\n",
    "# Define the LatencyItem namedtuple\n",
    "LatencyItem = namedtuple('LatencyItem', ['name', 'time', 'unit', 'rationale'])\n",
    "\n",
    "# Speed of light in a vacuum in km/s\n",
    "speed_of_light_vacuum = 299792\n",
    "\n",
    "# Refractive index of standard fiber optics \n",
    "refractive_index_fiber = 1.5\n",
    "\n",
    "# Speed of light in fiber optics in km/s\n",
    "speed_of_light_fiber = speed_of_light_vacuum / refractive_index_fiber\n",
    "\n",
    "# Latency calculations\n",
    "# Los Angeles to Amsterdam: if a straight line distance of about 9,000 km.\n",
    "los_angeles_to_amsterdam_latency = (9000 / speed_of_light_fiber) * 1000  # in milliseconds\n",
    "los_angeles_to_amsterdam_rationale = \"Calculated using the approximate straight line distance and the speed of light in fiber optics.\"\n",
    "\n",
    "# Low Earth Orbit Satellite: if a height of 2000 km for LEO satellites.\n",
    "low_earth_orbit_satellite_latency = (2000 / speed_of_light_vacuum) * 1000  # in milliseconds\n",
    "low_earth_orbit_satellite_rationale = \"Calculated using the height of LEO satellites and the speed of light in vacuum.\"\n",
    "\n",
    "# Geostationary Satellite: orbit at about 35,786 km above the equator.\n",
    "geostationary_satellite_latency = (35786 / speed_of_light_vacuum) * 1000  # in milliseconds\n",
    "geostationary_satellite_rationale = \"Calculated using the orbit height of geostationary satellites and the speed of light in vacuum.\"\n",
    "\n",
    "# Earth to the Moon: average distance about 384,400 km.\n",
    "earth_to_the_moon_latency = (384400 / speed_of_light_vacuum) * 1000  # in milliseconds\n",
    "earth_to_the_moon_rationale = \"Calculated using the average Earth-to-Moon distance and the speed of light in vacuum.\"\n",
    "\n",
    "# Earth to Mars: average minimum distance about 54.6 million km.\n",
    "earth_to_mars_latency = (54600000 / speed_of_light_vacuum) / 60  # in minutes\n",
    "earth_to_mars_rationale = \"Calculated using the average minimum Earth-to-Mars distance and the speed of light in vacuum.\"\n",
    "\n",
    "# Create a list of LatencyItems with the calculated latencies\n",
    "items1_3 = [\n",
    "    LatencyItem(\"Los Angeles to Amsterdam\", los_angeles_to_amsterdam_latency, \"ms\", los_angeles_to_amsterdam_rationale),\n",
    "    LatencyItem(\"Low Earth Orbit Satellite\", low_earth_orbit_satellite_latency, \"ms\", low_earth_orbit_satellite_rationale),\n",
    "    LatencyItem(\"Geostationary Satellite\", geostationary_satellite_latency, \"ms\", geostationary_satellite_rationale),\n",
    "    LatencyItem(\"Earth to the Moon\", earth_to_the_moon_latency, \"ms\", earth_to_the_moon_rationale),\n",
    "    LatencyItem(\"Earth to Mars\", earth_to_mars_latency, \"min\", earth_to_mars_rationale),\n",
    "]\n",
    "\n",
    "# Create a DataFrame to display the results\n",
    "df1_3 = pd.DataFrame(items1_3)\n",
    "print(df1_3)"
   ]
  },
  {
   "cell_type": "code",
   "execution_count": 47,
   "id": "0554c742-f0db-417f-9b0f-79eb05edd0f1",
   "metadata": {},
   "outputs": [],
   "source": [
    "def check_latency_items(items):\n",
    "    # Checks if latency sizes and units are filled out correctly\n",
    "    for item in items:\n",
    "        assert item.time > 0, f\"Time for {item.name} should be greater than zero.\"\n",
    "        assert item.unit in ['ms', 'min'], f\"Unit for {item.name} not in units dictionary.\"\n",
    "\n",
    "check_latency_items(items1_3)"
   ]
  },
  {
   "cell_type": "markdown",
   "id": "1deaa187-fefb-45b8-9f01-624224da991d",
   "metadata": {},
   "source": [
    "The one-way latency for various scenarios has been calculated, taking into account the medium through which the signal travels. For terrestrial distances, such as from Los Angeles to Amsterdam, latency can be estimated using the speed of light in fiber optics, which is slower than in a vacuum due to the refractive index of the fiber material. Snell's Law is used to account for this, applying a refractive index of approximately 1.5 for standard fiber, which yields a speed of light around two-thirds that in a vacuum, specifically around 200,000 kilometers per second as opposed to the 299,792 kilometers per second in a vacuum.\r\n",
    "For communication with satellites and interplanetary distances, the speed of light in a vacuum was used, as these signals travel through space. After calculating the latencies based on these speeds and distances, the check_latency_items function was performed. The absence of output indicates that all latency items passed the validation checks, confirming that the data entries for each latency scenario were successfully within expected parameters and did not violate any assertions in the code\r\n"
   ]
  },
  {
   "cell_type": "markdown",
   "id": "9572bf08-1fd8-4713-875a-3e983886ad4b",
   "metadata": {},
   "source": [
    "##### References:)\r\n",
    "- [Refractive Index Profiles of Optical Fibers - QuestTel](https://questtel.com/wiki/refractive-index-profiles-of-optical-fibers#:~:text=In%20simple%20words%20to%20understand,speed%20of%20light%20in%20vacuum.)\r\n",
    "- [How to Calculate the Speed of Light in an Optical Fibre - Genuine Modules](https://www.genuinemodules.com/how-to-calculate-the-speed-of-light-in-an-optical-fibre_a2976)\r\n",
    "- [Low Earth Orbit Economy FAQ - NASA](https://www.nasa.gov/humans-in-space/leo-economy-frequently-asked-questions/#:~:text=Low%20Earth%20orbit%20(often%20known,communication%2C%20observation%2C%20and%20resupply.)\r\n",
    "- [Geostationary Orbit - Wikipedia](https://en.wikipedia.org/wiki/Geostationary_orbit)\r\n",
    "- [Distance to the Moon - NASA Space Place](https://spaceplace.nasa.gov/moon-distance/en/)\r\n",
    "- [Mars Close Approach - NASA](https://mars.nasa.gov/all-about-mars/night-sky/close-approach/)\r\n"
   ]
  }
 ],
 "metadata": {
  "kernelspec": {
   "display_name": "Python 3 (ipykernel)",
   "language": "python",
   "name": "python3"
  },
  "language_info": {
   "codemirror_mode": {
    "name": "ipython",
    "version": 3
   },
   "file_extension": ".py",
   "mimetype": "text/x-python",
   "name": "python",
   "nbconvert_exporter": "python",
   "pygments_lexer": "ipython3",
   "version": "3.9.18"
  }
 },
 "nbformat": 4,
 "nbformat_minor": 5
}
