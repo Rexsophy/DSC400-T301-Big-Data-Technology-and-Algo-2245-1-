{
 "cells": [
  {
   "cell_type": "markdown",
   "id": "36525325-a7d0-4e02-a111-77a36c82e1af",
   "metadata": {},
   "source": [
    "#### Rex Gayas\n",
    "#### Week 7 Assignment 7.2 Spring 2024\n",
    "#### DSC400-T301 Big Data, Technology, and Algo (2245-1)\n",
    "#### Stream Processing with Spark"
   ]
  },
  {
   "cell_type": "code",
   "execution_count": null,
   "id": "44f5c5b9-3a68-4583-8ac7-bb868589ef71",
   "metadata": {},
   "outputs": [
    {
     "name": "stderr",
     "output_type": "stream",
     "text": [
      "24/04/28 16:45:46 WARN Utils: Your hostname, Rexsophy resolves to a loopback address: 127.0.1.1; using 172.26.141.55 instead (on interface eth0)\n",
      "24/04/28 16:45:46 WARN Utils: Set SPARK_LOCAL_IP if you need to bind to another address\n",
      "Setting default log level to \"WARN\".\n",
      "To adjust logging level use sc.setLogLevel(newLevel). For SparkR, use setLogLevel(newLevel).\n",
      "24/04/28 16:45:48 WARN NativeCodeLoader: Unable to load native-hadoop library for your platform... using builtin-java classes where applicable\n",
      "24/04/28 16:45:49 WARN Utils: Service 'SparkUI' could not bind on port 4040. Attempting port 4041.\n",
      "24/04/28 16:45:50 WARN TextSocketSourceProvider: The socket source should not be used for production applications! It does not support recovery.\n",
      "24/04/28 16:45:51 WARN ResolveWriteToStream: Temporary checkpoint location created which is deleted normally when the query didn't fail: /tmp/temporary-7153c352-835d-4cbb-8d28-89b4cdebd446. If it's required to delete it under any circumstances, please set spark.sql.streaming.forceDeleteTempCheckpointLocation to true. Important to know deleting temp checkpoint folder is best effort.\n",
      "24/04/28 16:45:51 WARN ResolveWriteToStream: spark.sql.adaptive.enabled is not supported in streaming DataFrames/Datasets and will be disabled.\n",
      "                                                                                \r"
     ]
    },
    {
     "name": "stdout",
     "output_type": "stream",
     "text": [
      "-------------------------------------------\n",
      "Batch: 0\n",
      "-------------------------------------------\n",
      "+----+-----+\n",
      "|word|count|\n",
      "+----+-----+\n",
      "+----+-----+\n",
      "\n"
     ]
    },
    {
     "name": "stderr",
     "output_type": "stream",
     "text": [
      "                                                                                \r"
     ]
    },
    {
     "name": "stdout",
     "output_type": "stream",
     "text": [
      "-------------------------------------------\n",
      "Batch: 1\n",
      "-------------------------------------------\n",
      "+-------+-----+\n",
      "|   word|count|\n",
      "+-------+-----+\n",
      "|  hello|    4|\n",
      "|science|    3|\n",
      "|  spark|    4|\n",
      "|  world|    3|\n",
      "+-------+-----+\n",
      "\n"
     ]
    },
    {
     "name": "stderr",
     "output_type": "stream",
     "text": [
      "24/04/28 17:00:20 WARN TextSocketMicroBatchStream: Stream closed by localhost:9999\n"
     ]
    }
   ],
   "source": [
    "from pyspark.sql import SparkSession\n",
    "from pyspark.sql.functions import explode, split\n",
    "\n",
    "# Initialize a SparkSession for structured streaming\n",
    "spark = SparkSession \\\n",
    "    .builder \\\n",
    "    .appName(\"Assignment 7.1\") \\\n",
    "    .getOrCreate()\n",
    "\n",
    "# Define the input data stream coming from netcat\n",
    "lines = spark \\\n",
    "    .readStream \\\n",
    "    .format(\"socket\") \\\n",
    "    .option(\"host\", \"localhost\") \\\n",
    "    .option(\"port\", 9999) \\\n",
    "    .load()\n",
    "\n",
    "# Split the lines into words using the explode and split functions\n",
    "words = lines.select(\n",
    "    explode(\n",
    "        split(lines.value, \" \")\n",
    "    ).alias(\"word\")\n",
    ")\n",
    "\n",
    "# Generate running word count\n",
    "wordCounts = words.groupBy(\"word\").count()\n",
    "\n",
    "# Modify the query to only return results where the word count is greater than two\n",
    "filteredWordCounts = wordCounts.filter(wordCounts['count'] > 2)\n",
    "\n",
    "# Define the query to write the results to the console\n",
    "try:\n",
    "    query = filteredWordCounts \\\n",
    "        .writeStream \\\n",
    "        .outputMode(\"complete\") \\\n",
    "        .format(\"console\") \\\n",
    "        .start()\n",
    "\n",
    "    query.awaitTermination()\n",
    "except KeyboardInterrupt:\n",
    "    print('Stopping query')\n",
    "    query.stop()\n"
   ]
  },
  {
   "cell_type": "markdown",
   "id": "f7d4c1a9-5cc9-43bb-90ee-f26f4d4254a6",
   "metadata": {},
   "source": [
    "Modified the query to only return results where the word count is greater than two and this was executed by adding a filter to the DataFrame before writing the stream."
   ]
  },
  {
   "cell_type": "code",
   "execution_count": null,
   "id": "d6056774-55ec-481b-b169-67c02b601e18",
   "metadata": {},
   "outputs": [],
   "source": []
  }
 ],
 "metadata": {
  "kernelspec": {
   "display_name": "Python 3 (ipykernel)",
   "language": "python",
   "name": "python3"
  },
  "language_info": {
   "codemirror_mode": {
    "name": "ipython",
    "version": 3
   },
   "file_extension": ".py",
   "mimetype": "text/x-python",
   "name": "python",
   "nbconvert_exporter": "python",
   "pygments_lexer": "ipython3",
   "version": "3.10.12"
  }
 },
 "nbformat": 4,
 "nbformat_minor": 5
}
