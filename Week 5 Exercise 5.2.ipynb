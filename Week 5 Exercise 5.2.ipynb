{
 "cells": [
  {
   "cell_type": "markdown",
   "id": "c10c306a-5ee2-4250-b461-26d2c7313215",
   "metadata": {},
   "source": [
    "#### Rex Gayas\n",
    "#### Week 5 Exercise 5.2 Spring 2024\n",
    "#### DSC400-T301 Big Data, Technology, and Algo (2245-1)\n",
    "#### Acquiring and Storing Data"
   ]
  },
  {
   "cell_type": "markdown",
   "id": "bb3091d5-b25c-479c-a170-2a1c74728391",
   "metadata": {},
   "source": [
    "#### Assignment 5.1a"
   ]
  },
  {
   "cell_type": "code",
   "execution_count": 26,
   "id": "ea99e98d-c6e0-4e90-b264-fbd2d8520ef0",
   "metadata": {},
   "outputs": [
    {
     "name": "stdout",
     "output_type": "stream",
     "text": [
      "\\data\\external\\census\\acs-summaryfile\\2015\n",
      "\\data\\external\\census\\acs-summaryfile\\2016\n",
      "\\data\\external\\census\\acs-summaryfile\\2017\n",
      "\\data\\external\\census\\acs-summaryfile\\2018\n",
      "\\data\\external\\census\\acs-summaryfile\\2019\n",
      "\\data\\external\\census\\acs-summaryfile\\2020\n",
      "\\data\\external\\census\\acs-summaryfile\\2021\n",
      "\\data\\external\\census\\acs-summaryfile\\2022\n",
      "\\data\\external\\census\\acs-summaryfile\\2023\n",
      "\\data\\external\\census\\acs-summaryfile\\2024\n"
     ]
    }
   ],
   "source": [
    "import os\n",
    "from datetime import datetime\n",
    "from pathlib import Path\n",
    "\n",
    "# Set the base directory\n",
    "base_dir = Path('/data/external/census/acs-summaryfile')\n",
    "\n",
    "# Get the current year\n",
    "current_year = datetime.now().year\n",
    "\n",
    "# Initialize an empty set to store the directories\n",
    "acs_summary_file_dirs = set()\n",
    "\n",
    "# Iterate over the years from 2015 to the current year\n",
    "for year in range(2015, current_year + 1):\n",
    "    # Format the directory path\n",
    "    dir_path = base_dir / str(year)\n",
    "    \n",
    "    # Add the directory path to the set\n",
    "    acs_summary_file_dirs.add(dir_path)\n",
    "\n",
    "# Sort and print the directory paths to verify\n",
    "for dir_path in sorted(acs_summary_file_dirs):\n",
    "    print(dir_path)\n",
    "   \n"
   ]
  },
  {
   "cell_type": "markdown",
   "id": "d7143e18-7fcc-46db-924c-32c50988e427",
   "metadata": {},
   "source": [
    "This iterates over a range of years, creating directory paths for the ACS Summary file and within “external” folder. It constructs each path by appending the year to the dataset-specific base directory."
   ]
  },
  {
   "cell_type": "markdown",
   "id": "71641821-04b6-4d63-bcb8-d38e974f722a",
   "metadata": {},
   "source": [
    "#### Assignment 5.1b"
   ]
  },
  {
   "cell_type": "code",
   "execution_count": 27,
   "id": "e0bab818-9888-4246-b84f-52ae888616d4",
   "metadata": {},
   "outputs": [
    {
     "name": "stdout",
     "output_type": "stream",
     "text": [
      "\\data\\external\\census\\pums\\2015\n",
      "\\data\\external\\census\\pums\\2016\n",
      "\\data\\external\\census\\pums\\2017\n",
      "\\data\\external\\census\\pums\\2018\n",
      "\\data\\external\\census\\pums\\2019\n",
      "\\data\\external\\census\\pums\\2020\n",
      "\\data\\external\\census\\pums\\2021\n",
      "\\data\\external\\census\\pums\\2022\n",
      "\\data\\external\\census\\pums\\2023\n",
      "\\data\\external\\census\\pums\\2024\n"
     ]
    }
   ],
   "source": [
    "# Base directory for PUMS data set\n",
    "base_dir = Path('/data/external/census/pums')\n",
    "\n",
    "# Initialize an empty set to store the PUMS directory paths\n",
    "pums_dirs = set()\n",
    "\n",
    "# Iterate over the years from 2015 to the current year\n",
    "for year in range(2015, current_year + 1):\n",
    "    # Format the directory path\n",
    "    dir_path = base_dir / str(year)\n",
    "    \n",
    "    # Add the directory path to the set\n",
    "    pums_dirs.add(dir_path)\n",
    "\n",
    "# Sort and print the directory paths to verify\n",
    "for dir_path in sorted(pums_dirs):\n",
    "    print(dir_path)\n"
   ]
  },
  {
   "cell_type": "markdown",
   "id": "372d9d1d-743d-4e50-81a8-9dafb2c0f5b2",
   "metadata": {},
   "source": [
    "The same approach as 5.1a is used, but specifically for organizing directories for the PUMS data set. It follows the yearly update pattern and generates directories from 2015 to the current year."
   ]
  },
  {
   "cell_type": "markdown",
   "id": "930c3362-fb05-4f52-a8af-96ecab8001f5",
   "metadata": {},
   "source": [
    "#### Assignment 5.1c"
   ]
  },
  {
   "cell_type": "code",
   "execution_count": 28,
   "id": "ae96df8e-a4d1-4b99-8159-aa30b733d69f",
   "metadata": {},
   "outputs": [
    {
     "name": "stdout",
     "output_type": "stream",
     "text": [
      "\\data\\external\\census\\tiger\\2015\n",
      "\\data\\external\\census\\tiger\\2016\n",
      "\\data\\external\\census\\tiger\\2017\n",
      "\\data\\external\\census\\tiger\\2018\n",
      "\\data\\external\\census\\tiger\\2019\n",
      "\\data\\external\\census\\tiger\\2020\n",
      "\\data\\external\\census\\tiger\\2021\n",
      "\\data\\external\\census\\tiger\\2022\n",
      "\\data\\external\\census\\tiger\\2023\n",
      "\\data\\external\\census\\tiger\\2024\n"
     ]
    }
   ],
   "source": [
    "# Base directory for Tiger data set\n",
    "base_dir = Path('/data/external/census/tiger')\n",
    "\n",
    "# Initialize an empty set to store the Tiger directory paths\n",
    "tiger_dirs = set()\n",
    "\n",
    "# Iterate over the years from 2015 to the current year\n",
    "for year in range(2015, current_year + 1):\n",
    "    # Format the directory path\n",
    "    dir_path = base_dir / str(year)\n",
    "    \n",
    "    # Add the directory path to the set\n",
    "    tiger_dirs.add(dir_path)\n",
    "\n",
    "# Sort and print the directory paths to verify\n",
    "for dir_path in sorted(tiger_dirs):\n",
    "    print(dir_path)\n"
   ]
  },
  {
   "cell_type": "markdown",
   "id": "76b0ae90-5238-4e21-9707-b75501bae6a1",
   "metadata": {},
   "source": [
    "Created a directory for each year for the Tiger/Line Shapefiles, similarly to 5.1a and 5.1b, under the “external” directory, emphasizing the consistency of data storage across different provided datasets."
   ]
  },
  {
   "cell_type": "markdown",
   "id": "b3c6f93b-1c6f-48b7-8f94-a4b564c12cc1",
   "metadata": {},
   "source": [
    "#### Assignment 5.1d"
   ]
  },
  {
   "cell_type": "code",
   "execution_count": 29,
   "id": "c5be44b2-7ed7-4bce-bcda-945d1466168c",
   "metadata": {},
   "outputs": [
    {
     "name": "stdout",
     "output_type": "stream",
     "text": [
      "Number of forecast directories: 366\n",
      "First directory: \\data\\external\\nwc-wpc\\forecasts\\2024\\01\\01\n",
      "Last directory: \\data\\external\\nwc-wpc\\forecasts\\2024\\12\\31\n"
     ]
    }
   ],
   "source": [
    "from datetime import datetime, timedelta\n",
    "\n",
    "# Base directory for the weather forecast data set\n",
    "base_dir = Path('/data/external/nwc-wpc/forecasts')\n",
    "\n",
    "# Initialize an empty set to store the forecast directory paths\n",
    "forecast_dirs = set()\n",
    "\n",
    "# Create a date range for the current year\n",
    "start_date = datetime(current_year, 1, 1)\n",
    "end_date = datetime(current_year, 12, 31)\n",
    "date_range = (start_date + timedelta(days=x) for x in range((end_date - start_date).days + 1))\n",
    "\n",
    "# Iterate over the date range\n",
    "for date in date_range:\n",
    "    # Format the directory path with year, month, and day\n",
    "    dir_path = base_dir / str(date.year) / str(date.strftime('%m')) / str(date.strftime('%d'))\n",
    "    \n",
    "    # Add the directory path to the set\n",
    "    forecast_dirs.add(dir_path)\n",
    "\n",
    "# Print the number of directories to verify (should be 365 or 366 if leap year)\n",
    "print(f\"Number of forecast directories: {len(forecast_dirs)}\")\n",
    "\n",
    "# Sort and print the first and last directory paths to verify\n",
    "sorted_dirs = sorted(forecast_dirs)\n",
    "print(f\"First directory: {sorted_dirs[0]}\")\n",
    "print(f\"Last directory: {sorted_dirs[-1]}\")\n"
   ]
  },
  {
   "cell_type": "markdown",
   "id": "36b70fea-afb2-4e43-9019-04f650e8b285",
   "metadata": {},
   "source": [
    "Generated a comprehensive set of directories for daily weather forecasts, using a nested loop to account for every day of the year, resulting in 366 paths since it's a leap year."
   ]
  },
  {
   "cell_type": "markdown",
   "id": "f4944bc3-d05f-4ad5-ad5d-b8ea60311026",
   "metadata": {},
   "source": [
    "#### Assignment 5.2a"
   ]
  },
  {
   "cell_type": "code",
   "execution_count": 30,
   "id": "f0ff2a89-0a69-445b-b9be-fb12b62bf242",
   "metadata": {},
   "outputs": [
    {
     "name": "stdout",
     "output_type": "stream",
     "text": [
      "Number of inventory directories: 1830\n"
     ]
    }
   ],
   "source": [
    "from datetime import datetime, timedelta\n",
    "from pathlib import Path\n",
    "\n",
    "# IATA codes for the locations\n",
    "locations = ['BVE', 'CMH', 'DEN', 'SFO', 'BAL']\n",
    "\n",
    "# Base directory for inventory\n",
    "base_dir = Path('/data/raw/inventory')\n",
    "\n",
    "# Initialize an empty set to store the inventory directory paths\n",
    "inventory_dirs = set()\n",
    "\n",
    "# Determine the current year\n",
    "current_year = datetime.now().year\n",
    "\n",
    "# Create a date range for the current year\n",
    "start_date = datetime(current_year, 1, 1)\n",
    "end_date = datetime(current_year, 12, 31)\n",
    "date_range = [start_date + timedelta(days=x) for x in range((end_date - start_date).days + 1)]\n",
    "\n",
    "# Iterate over the locations and the date range\n",
    "for location in locations:\n",
    "    for date in date_range:\n",
    "        # Format the directory path with location, year, month, and day\n",
    "        dir_path = base_dir / location / str(date.year) / str(date.strftime('%m')) / str(date.strftime('%d'))\n",
    "        \n",
    "        # Add the directory path to the set\n",
    "        inventory_dirs.add(dir_path)\n",
    "\n",
    "# Verify the number of directories (should be 1825 or 1830 if leap year)\n",
    "print(f\"Number of inventory directories: {len(inventory_dirs)}\")\n",
    "\n"
   ]
  },
  {
   "cell_type": "code",
   "execution_count": 31,
   "id": "1845a06d-79ad-4c2b-b362-d54bb94c9023",
   "metadata": {},
   "outputs": [
    {
     "name": "stdout",
     "output_type": "stream",
     "text": [
      "Number of expenses directories: 1830\n"
     ]
    }
   ],
   "source": [
    "# Base directory for expenses\n",
    "base_dir = Path('/data/raw/expenses')\n",
    "\n",
    "# Reinitialize the date range \n",
    "start_date = datetime(current_year, 1, 1)\n",
    "end_date = datetime(current_year, 12, 31)\n",
    "date_range = [start_date + timedelta(days=x) for x in range((end_date - start_date).days + 1)]\n",
    "\n",
    "# Initialize an empty set to store the expenses directory paths\n",
    "expenses_dirs = set()\n",
    "\n",
    "# Iterate over the locations and the date range\n",
    "for location in locations:\n",
    "    for date in date_range:\n",
    "        # Format the directory path with location, year, month, and day\n",
    "        dir_path = base_dir / location / str(date.year) / str(date.strftime('%m')) / str(date.strftime('%d'))\n",
    "        \n",
    "        # Add the directory path to the set\n",
    "        expenses_dirs.add(dir_path)\n",
    "\n",
    "# Verify the number of directories (should be 1825 or 1830 if leap year)\n",
    "print(f\"Number of expenses directories: {len(expenses_dirs)}\")\n",
    "\n"
   ]
  },
  {
   "cell_type": "markdown",
   "id": "337e08eb-1803-4538-969c-4db3b320c325",
   "metadata": {},
   "source": [
    "Produced daily directories for both inventory and expenses datasets. It leverages a date range within the current year, iterating through each day and creating a path in the “raw” data folder for each of the store locations."
   ]
  },
  {
   "cell_type": "markdown",
   "id": "0d37458a-c478-452c-b4a3-cc5893647f69",
   "metadata": {},
   "source": [
    "#### Assignment 5.2b"
   ]
  },
  {
   "cell_type": "code",
   "execution_count": 32,
   "id": "bc353d9e-cc7a-49af-82e1-0e1fb401a6c1",
   "metadata": {},
   "outputs": [
    {
     "name": "stdout",
     "output_type": "stream",
     "text": [
      "Number of sales directories: 43920\n"
     ]
    }
   ],
   "source": [
    "# Base directory for sales\n",
    "base_dir = Path('/data/raw/sales')\n",
    "\n",
    "# Initialize an empty set to store the sales directory paths\n",
    "sales_dirs = set()\n",
    "\n",
    "# Use the same locations and reinitialize the date range list\n",
    "for location in locations:\n",
    "    for date in date_range:\n",
    "        for hour in range(24):  # Each hour of the day\n",
    "            # Format the directory path with location, year, month, day, and hour\n",
    "            dir_path = base_dir / location / str(date.year) / str(date.strftime('%m')) / str(date.strftime('%d')) / str(hour).zfill(2)\n",
    "            \n",
    "            # Add the directory path to the set\n",
    "            sales_dirs.add(dir_path)\n",
    "\n",
    "# Verify the number of directories (should be 43,800 or 43,920 if leap year)\n",
    "print(f\"Number of sales directories: {len(sales_dirs)}\")\n"
   ]
  },
  {
   "cell_type": "markdown",
   "id": "dbe3db62-eafa-4d20-ae0a-7ef462aa0a6a",
   "metadata": {},
   "source": [
    "Added an extra level of granularity by creating directories for each hour of sales data. This requires an additional loop to iterate over 24 hours, multiplying the number of directories significantly to capture hourly updates."
   ]
  },
  {
   "cell_type": "markdown",
   "id": "b625ba59-4c7d-4f87-9f99-c9938451153b",
   "metadata": {},
   "source": [
    "#### Assignment 5.3a"
   ]
  },
  {
   "cell_type": "code",
   "execution_count": 34,
   "id": "c3edf9f8-f846-45db-b160-6c7c998f2aeb",
   "metadata": {},
   "outputs": [
    {
     "name": "stdout",
     "output_type": "stream",
     "text": [
      "Number of modeling data directories: 52\n"
     ]
    }
   ],
   "source": [
    "import os\n",
    "from datetime import datetime, timedelta\n",
    "import calendar\n",
    "\n",
    "# Define the base directory\n",
    "base_dir = Path('/data/processed/modeling')\n",
    "\n",
    "# Initialize a set to store the directory paths\n",
    "modeling_data_dirs = set()\n",
    "\n",
    "# Determine the first Monday of the year\n",
    "year = datetime.now().year\n",
    "first_day = datetime(year, 1, 1)\n",
    "first_monday = first_day + timedelta(days=(7 - first_day.weekday()))\n",
    "\n",
    "# Create a directory for each week\n",
    "for week in range(52):\n",
    "    week_date = first_monday + timedelta(weeks=week)\n",
    "    dir_path = base_dir / str(week_date.year) / str(week_date.strftime('%m')) / str(week_date.strftime('%d'))\n",
    "    modeling_data_dirs.add(dir_path)\n",
    "\n",
    "# Verify the number of directories\n",
    "print(f\"Number of modeling data directories: {len(modeling_data_dirs)}\")\n"
   ]
  },
  {
   "cell_type": "markdown",
   "id": "c2afa1eb-8f97-4390-a017-0ea2600bb789",
   "metadata": {},
   "source": [
    "Aligned the weekly modeling data directories with the first day of the week, creating 52 directories—one for each week of the year—within the “processed/modeling” directory."
   ]
  },
  {
   "cell_type": "markdown",
   "id": "04b9f565-a9ba-431e-8954-7398359628bd",
   "metadata": {},
   "source": [
    "#### Assignment 5.3b"
   ]
  },
  {
   "cell_type": "code",
   "execution_count": 35,
   "id": "219e62c9-f9d7-428c-b151-a09178dd9a73",
   "metadata": {},
   "outputs": [
    {
     "name": "stdout",
     "output_type": "stream",
     "text": [
      "Number of inventory request directories: 12\n"
     ]
    }
   ],
   "source": [
    "# Define the base directory for inventory requests\n",
    "base_dir = Path('/data/processed/inventory/requests')\n",
    "\n",
    "# Initialize a set to store the directory paths\n",
    "inventory_request_dirs = set()\n",
    "\n",
    "# Create a directory for each month of the year\n",
    "for month in range(1, 13):\n",
    "    dir_path = base_dir / str(year) / str(month).zfill(2)\n",
    "    inventory_request_dirs.add(dir_path)\n",
    "\n",
    "# Verify the number of directories\n",
    "print(f\"Number of inventory request directories: {len(inventory_request_dirs)}\")\n"
   ]
  },
  {
   "cell_type": "markdown",
   "id": "bca3a5ba-3048-49b8-b58e-f780bade5c12",
   "metadata": {},
   "source": [
    "Set up 12 directories under the “processed/inventory/requests” path, one for each month, ensuring that monthly inventory data is stored in an organized and accessible manner."
   ]
  },
  {
   "cell_type": "markdown",
   "id": "d9962542-fd4e-4609-9170-4ebbd832158a",
   "metadata": {},
   "source": [
    "#### Assignment 5.3c"
   ]
  },
  {
   "cell_type": "code",
   "execution_count": 36,
   "id": "aadca234-4b27-4cc7-8fe6-f1b729ddf092",
   "metadata": {},
   "outputs": [
    {
     "name": "stdout",
     "output_type": "stream",
     "text": [
      "Number of financial directories: 4\n"
     ]
    }
   ],
   "source": [
    "# Define the base directory for financials\n",
    "base_dir = Path('/data/processed/financials/quarterly')\n",
    "\n",
    "# Initialize a set to store the directory paths\n",
    "financials_dirs = set()\n",
    "\n",
    "# Create a directory for each quarter\n",
    "for quarter in range(1, 5):\n",
    "    dir_path = base_dir / str(year) / f'Q{quarter}'\n",
    "    financials_dirs.add(dir_path)\n",
    "\n",
    "# Verify the number of directories\n",
    "print(f\"Number of financial directories: {len(financials_dirs)}\")\n"
   ]
  },
  {
   "cell_type": "markdown",
   "id": "1b7ac3c5-d444-403f-afb5-d7fc0983683b",
   "metadata": {},
   "source": [
    "Created four directories within the “processed/financials/quarterly” directory, one for each financial quarter of the year, facilitating the segmentation and retrieval of financial reports based on fiscal quarters."
   ]
  }
 ],
 "metadata": {
  "kernelspec": {
   "display_name": "Python 3 (ipykernel)",
   "language": "python",
   "name": "python3"
  },
  "language_info": {
   "codemirror_mode": {
    "name": "ipython",
    "version": 3
   },
   "file_extension": ".py",
   "mimetype": "text/x-python",
   "name": "python",
   "nbconvert_exporter": "python",
   "pygments_lexer": "ipython3",
   "version": "3.9.19"
  }
 },
 "nbformat": 4,
 "nbformat_minor": 5
}
